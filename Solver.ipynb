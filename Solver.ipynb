{
 "cells": [
  {
   "cell_type": "code",
   "execution_count": 1,
   "id": "0e1cfd77-57c2-45c5-a30d-017cae1ba345",
   "metadata": {},
   "outputs": [],
   "source": [
    "import os\n",
    "import sys\n",
    "import numpy as np\n",
    "import pandas as pd\n",
    "import matplotlib.pyplot as plt\n",
    "import torch"
   ]
  },
  {
   "cell_type": "code",
   "execution_count": 2,
   "id": "b021ce06-ca64-488a-9800-e0ef0a1172ab",
   "metadata": {},
   "outputs": [],
   "source": [
    "MAX_DEPTH = 10."
   ]
  },
  {
   "cell_type": "code",
   "execution_count": 12,
   "id": "92d8d035-0797-46b4-8456-4e5915f690ee",
   "metadata": {},
   "outputs": [],
   "source": [
    "class ProblemInstance:\n",
    "    \n",
    "    @staticmethod\n",
    "    def rand_rot_mtx():\n",
    "        roll = torch.randint(high=90, size=(1,))\n",
    "        yaw = torch.randint(high=90, size=(1,))\n",
    "        pitch = torch.randint(high=90, size=(1,))\n",
    "\n",
    "        tensor_0 = torch.zeros(1)\n",
    "        tensor_1 = torch.ones(1)\n",
    "\n",
    "        RX = torch.stack([\n",
    "                    torch.stack([tensor_1, tensor_0, tensor_0]),\n",
    "                    torch.stack([tensor_0, torch.cos(roll), -torch.sin(roll)]),\n",
    "                    torch.stack([tensor_0, torch.sin(roll), torch.cos(roll)])]).reshape(3,3)\n",
    "\n",
    "        RX = torch.eye(3)\n",
    "\n",
    "        print(\"Pitch is: \", pitch)\n",
    "        RY = torch.stack([\n",
    "                        torch.stack([torch.cos(pitch), tensor_0, torch.sin(pitch)]),\n",
    "                        torch.stack([tensor_0, tensor_1, tensor_0]),\n",
    "                        torch.stack([-torch.sin(pitch), tensor_0, torch.cos(pitch)])]).reshape(3,3)\n",
    "\n",
    "        RZ = torch.stack([\n",
    "                        torch.stack([torch.cos(yaw), -torch.sin(yaw), tensor_0]),\n",
    "                        torch.stack([torch.sin(yaw), torch.cos(yaw), tensor_0]),\n",
    "                        torch.stack([tensor_0, tensor_0, tensor_1])]).reshape(3,3)\n",
    "\n",
    "        RZ = torch.eye(3)\n",
    "\n",
    "        R = torch.mm(RZ, RY)\n",
    "        R = torch.mm(R, RX)\n",
    "\n",
    "        return R\n",
    "    \n",
    "    @staticmethod\n",
    "    def generate_example():\n",
    "        R = ProblemInstance.rand_rot_mtx()\n",
    "        t = torch.rand(3, )\n",
    "\n",
    "        x1, x2 = torch.rand(3,), torch.rand(3, )\n",
    "        x1[2], x2[2] = 1., 1.\n",
    "\n",
    "        rdepth = torch.rand(1) * MAX_DEPTH\n",
    "\n",
    "        X1, X2 = R.T @ (x1 * rdepth - t), R.T @ (x2 * rdepth - t)\n",
    "\n",
    "        return x1, x2, X1, X2, R, t"
   ]
  },
  {
   "cell_type": "code",
   "execution_count": 13,
   "id": "57908668-ab21-486c-a374-caefd7696b04",
   "metadata": {},
   "outputs": [
    {
     "name": "stdout",
     "output_type": "stream",
     "text": [
      "Pitch is:  tensor([73])\n"
     ]
    },
    {
     "data": {
      "text/plain": [
       "(tensor([0.8180, 0.9137, 1.0000]),\n",
       " tensor([0.7823, 0.1215, 1.0000]),\n",
       " tensor([ 0.4048,  6.8728, -9.1699]),\n",
       " tensor([ 0.6104,  0.6750, -8.9810]),\n",
       " tensor([[-0.7362,  0.0000, -0.6768],\n",
       "         [ 0.0000,  1.0000,  0.0000],\n",
       "         [ 0.6768,  0.0000, -0.7362]]),\n",
       " tensor([0.4916, 0.2753, 0.7986]))"
      ]
     },
     "execution_count": 13,
     "metadata": {},
     "output_type": "execute_result"
    }
   ],
   "source": [
    "ProblemInstance.generate_example()"
   ]
  },
  {
   "cell_type": "code",
   "execution_count": 131,
   "id": "d7586d85-638d-4224-b9a7-82105f463d36",
   "metadata": {},
   "outputs": [],
   "source": [
    "class Up2P:\n",
    "    \n",
    "    def __init__(self):\n",
    "        self.dtype = torch.float64\n",
    "        # TODO: add angles to potentially optimize for\n",
    "        # or use them in a solver itself so not to prerotate the scene\n",
    "    \n",
    "    # x: [2,3]\n",
    "    # X: [2,3]\n",
    "    def __call__(self, x, X):\n",
    "        assert x.shape == (2, 3)\n",
    "        assert X.shape == (2, 3)\n",
    "        # [4, 4]\n",
    "        # should be transposed as in Eigen order of indexation is a different one\n",
    "        A = torch.tensor([[-x[0, 2], 0, x[0, 0], X[0, 0] * x[0, 2] - X[0, 2] * x[0, 0]],\n",
    "                          [0, -x[0, 2], x[0, 1], -X[0, 1] * x[0, 2] - X[0, 2] * x[0, 1]],\n",
    "                          [-x[1, 2], 0, x[1, 0], X[1, 0] * x[1, 2] - X[1, 2] * x[1, 0]],\n",
    "                          [0, -x[1, 2], x[1, 1], -X[1, 1] * x[1, 2] - X[1, 2] * x[1, 1]]],\n",
    "                        dtype=self.dtype)\n",
    "        # [4, 2]                  \n",
    "        b = torch.cat([torch.tensor([\n",
    "                                -2 * X[0, 0] * x[0, 0] - 2 * X[0, 2] * x[0, 2],\n",
    "                                X[0, 2] * x[0, 0] - X[0, 0] * x[0, 2],\n",
    "                                -2 * X[0, 0] * x[0, 1],\n",
    "                                X[0, 2] * x[0, 1] - X[0, 1] * x[0, 2]\n",
    "                           ], dtype=self.dtype),\n",
    "                       torch.tensor([\n",
    "                               -2 * X[1, 0] * x[1, 0] - 2 * X[1, 2] * x[1, 2],\n",
    "                               X[1, 2] * x[1, 0] - X[1, 0] * x[1, 2],\n",
    "                               -2 * X[1, 0] * x[1, 1],\n",
    "                               X[1, 2] * x[1, 1] - X[1, 1] * x[1, 2]\n",
    "                           ], dtype=self.dtype)],\n",
    "                      dim=-1).reshape((4, 2))\n",
    "       \n",
    "        assert A.shape == (4, 4) and b.shape == (4, 2)\n",
    "        \n",
    "        b = A.inverse() @ b\n",
    "        sols = self.solve_quadratic_real(1., b[3, 0], b[3, 1])\n",
    "        if sols is None:\n",
    "            return []\n",
    "        \n",
    "        res = []\n",
    "        for q in sols:\n",
    "            q2 = q ** 2\n",
    "            inv_norm = 1 / (1 + q2)\n",
    "            cq = (1 - q2) * inv_norm\n",
    "            sq = 2 * q * inv_norm\n",
    "            \n",
    "            R = torch.eye(3)\n",
    "            R[0, 0] = cq\n",
    "            R[0, 2] = sq\n",
    "            R[2, 0] = -sq\n",
    "            R[2, 2] = cq\n",
    "\n",
    "            t = b[:3, 0] * q + b[:3, 1]\n",
    "            t *= -inv_norm\n",
    "            res.append((R, t))\n",
    "        \n",
    "        return res\n",
    "        \n",
    "    def solve_quadratic_real(self, a, b, c):\n",
    "        b2m4ac = b * b - 4 * a * c\n",
    "        if b2m4ac < 0:\n",
    "            return None\n",
    "        \n",
    "        sq = torch.sqrt(b2m4ac)\n",
    "        roots = []\n",
    "        if b > 0:\n",
    "            roots.append((2*c) / (-b - sq))\n",
    "        else:\n",
    "            roots.append((2*c) / (-b + sq))\n",
    "            \n",
    "        roots.append(c / (a * roots[0]))\n",
    "        \n",
    "        return roots\n",
    "    \n",
    "    # [TODO] measure some more meaningful metrics\n",
    "    @staticmethod\n",
    "    def validate_sol(R, t, Rgt, tgt):\n",
    "        return (R - Rgt).norm(), (t - tgt).norm()\n",
    "        \n",
    "        \n",
    "solver = Up2P()\n",
    "# solver(None, None)"
   ]
  },
  {
   "cell_type": "code",
   "execution_count": 132,
   "id": "df024ef4-8398-4df9-8054-9bd4afb99e2b",
   "metadata": {},
   "outputs": [
    {
     "data": {
      "text/plain": [
       "[(tensor([[-0.6669,  0.0000,  0.7451],\n",
       "          [ 0.0000,  1.0000,  0.0000],\n",
       "          [-0.7451,  0.0000, -0.6669]]),\n",
       "  tensor([0.1421, 0.6658, 0.8468], dtype=torch.float64)),\n",
       " (tensor([[-0.9117,  0.0000, -0.4108],\n",
       "          [ 0.0000,  1.0000,  0.0000],\n",
       "          [ 0.4108,  0.0000, -0.9117]]),\n",
       "  tensor([-2.4490,  0.1652,  2.4131], dtype=torch.float64))]"
      ]
     },
     "execution_count": 132,
     "metadata": {},
     "output_type": "execute_result"
    }
   ],
   "source": [
    "solver(torch.stack([x1, x2]), torch.stack([X1, X2]))"
   ]
  },
  {
   "cell_type": "code",
   "execution_count": 133,
   "id": "0b8f9196-fad1-4934-a29e-a70757cc413e",
   "metadata": {},
   "outputs": [
    {
     "name": "stdout",
     "output_type": "stream",
     "text": [
      "Pitch is:  tensor([69])\n"
     ]
    }
   ],
   "source": [
    "x1, x2, X1, X2, Rg, tg = ProblemInstance.generate_example()"
   ]
  },
  {
   "cell_type": "code",
   "execution_count": 134,
   "id": "a2866729-657a-4c55-9830-20ea6d96e8d9",
   "metadata": {},
   "outputs": [
    {
     "data": {
      "text/plain": [
       "(tensor([0.5298, 0.1372, 1.0000]),\n",
       " tensor([0.1857, 0.0610, 1.0000]),\n",
       " tensor([3.5739, 0.7794, 5.9480]),\n",
       " tensor([1.3741, 0.2890, 6.2022]),\n",
       " tensor([[-0.9117,  0.0000, -0.4108],\n",
       "         [ 0.0000,  1.0000,  0.0000],\n",
       "         [ 0.4108,  0.0000, -0.9117]]),\n",
       " tensor([-2.4490,  0.1652,  2.4131], dtype=torch.float64))"
      ]
     },
     "execution_count": 134,
     "metadata": {},
     "output_type": "execute_result"
    }
   ],
   "source": [
    "x1, x2, X1, X2, R, t"
   ]
  },
  {
   "cell_type": "code",
   "execution_count": 135,
   "id": "9f378d86-ecca-445b-9ad0-e554e91ce7d6",
   "metadata": {},
   "outputs": [
    {
     "name": "stdout",
     "output_type": "stream",
     "text": [
      "tensor([[ 0.9934,  0.0000, -0.1148],\n",
      "        [ 0.0000,  1.0000,  0.0000],\n",
      "        [ 0.1148,  0.0000,  0.9934]]) tensor([0.5413, 0.1033, 0.1147])\n",
      "--------- R error: 1.589472731211572e-06, t error: 8.036430699576158e-06 ----------\n",
      "tensor([[ 0.9934,  0.0000, -0.1148],\n",
      "        [ 0.0000,  1.0000,  0.0000],\n",
      "        [ 0.1148,  0.0000,  0.9934]]) tensor([0.5413, 0.1033, 0.1147], dtype=torch.float64)\n",
      "\n",
      "--------- R error: 0.25262829661369324, t error: 1.2381080389022827 ----------\n",
      "tensor([[ 0.9571,  0.0000, -0.2897],\n",
      "        [ 0.0000,  1.0000,  0.0000],\n",
      "        [ 0.2897,  0.0000,  0.9571]]) tensor([ 1.5444,  0.0601, -0.6098], dtype=torch.float64)\n",
      "\n"
     ]
    }
   ],
   "source": [
    "print(Rg, tg)\n",
    "for R, t in solver(torch.stack([x1, x2]), torch.stack([X1, X2])):\n",
    "    re, te = Up2P.validate_sol(R, t, Rg, tg)\n",
    "    print(f\"--------- R error: {re.float()}, t error: {te.float()} ----------\")\n",
    "    print(R,  t)\n",
    "    print()"
   ]
  },
  {
   "cell_type": "code",
   "execution_count": null,
   "id": "8865d12a-48dd-4853-93b7-54a723d28f9a",
   "metadata": {},
   "outputs": [],
   "source": []
  }
 ],
 "metadata": {
  "kernelspec": {
   "display_name": "Python 3 (ipykernel)",
   "language": "python",
   "name": "python3"
  },
  "language_info": {
   "codemirror_mode": {
    "name": "ipython",
    "version": 3
   },
   "file_extension": ".py",
   "mimetype": "text/x-python",
   "name": "python",
   "nbconvert_exporter": "python",
   "pygments_lexer": "ipython3",
   "version": "3.9.0"
  }
 },
 "nbformat": 4,
 "nbformat_minor": 5
}
