{
 "cells": [
  {
   "cell_type": "code",
   "execution_count": 307,
   "id": "6b515939-0066-4a12-8748-de2bf906af9f",
   "metadata": {},
   "outputs": [],
   "source": [
    "import torch\n",
    "import random\n",
    "import numpy as np\n",
    "\n",
    "\n",
    "import pycolmap\n",
    "\n",
    "from dataclasses import dataclass\n",
    "\n",
    "from double_sol import Camera\n",
    "from utils.rotation_utils import get_random_upward, get_upward_with_dev, get_rt_mtx\n",
    "from scipy.spatial.transform import Rotation\n",
    "\n",
    "np.set_printoptions(precision=3)\n",
    "np.set_printoptions(suppress=True)"
   ]
  },
  {
   "cell_type": "code",
   "execution_count": null,
   "id": "77522fa3-79af-43fb-a765-a085e1eb5b1b",
   "metadata": {},
   "outputs": [],
   "source": []
  },
  {
   "cell_type": "code",
   "execution_count": 2,
   "id": "a205dd41-6c20-4e95-8556-d8a5eccceb3f",
   "metadata": {},
   "outputs": [],
   "source": [
    "@dataclass\n",
    "class Config:\n",
    "    img_width: int = 640\n",
    "    img_height: int = 640\n",
    "    focal_length: int = (img_width * 0.5) / np.tan(60.0 * np.pi / 180.0);\n",
    "    min_depth: float = 1.\n",
    "    max_depth: float = 10.\n",
    "    inliers_ratio: float = 1.\n",
    "    outlier_dist: float = 30.\n",
    "    \n",
    "    # [TODO][IMPORTNAT]: not properly tested, be aware of using for\n",
    "    # some experiments\n",
    "    pixel_noise: float = 0.\n",
    "\n",
    "conf = Config()\n",
    "\n",
    "def get_random_image_point(conf: Config):\n",
    "    x = random.uniform(0, conf.img_width)\n",
    "    y = random.uniform(0, conf.img_height)\n",
    "    x = torch.tensor([x, y], dtype=torch.float64)    \n",
    "    return x\n",
    "\n",
    "def to_homogeneous(x):\n",
    "    return torch.cat([x, torch.ones(1)])\n",
    "\n",
    "def to_camera_coords(x: torch.tensor, conf: Config = conf):\n",
    "    x = to_homogeneous(x)\n",
    "    \n",
    "    x[0] -= conf.img_width // 2\n",
    "    x[1] -= conf.img_height // 2\n",
    "    x[:2] /= conf.focal_length\n",
    "    x /= x.norm()\n",
    "    \n",
    "    return x\n",
    "\n",
    "def generate_correspondence(x: torch.tensor, conf: Config):\n",
    "    x = to_camera_coords(x, conf)\n",
    "    x *= random.uniform(conf.min_depth, conf.max_depth)\n",
    "    \n",
    "    assert x.shape == (3,)    \n",
    "    return x\n",
    "\n",
    "def transform_correspondence(X: torch.tensor, R: torch.tensor, t: torch.tensor):\n",
    "    return R.T @ (X - t)\n",
    "\n",
    "def generate_example(R, t, conf: Config = conf):\n",
    "    x1, x2 = get_random_image_point(conf), get_random_image_point(conf)\n",
    "    X1, X2 = generate_correspondence(x1.clone(), conf),\\\n",
    "             generate_correspondence(x2.clone(), conf)\n",
    "    X1, X2 = transform_correspondence(X1, R, t), transform_correspondence(X2, R, t)\n",
    "    \n",
    "    # [TODO][IMPORTNAT]: not properly tested, be aware of using for\n",
    "    # some experiments\n",
    "    if conf.pixel_noise != 0:\n",
    "        x1noise = np.random.normal(0, conf.pixel_noise, 2)\n",
    "        x2noise = np.random.normal(0, conf.pixel_noise, 2)\n",
    "        \n",
    "        if torch.all(x1[0] + x1noise > 0) and torch.all(x1[1] + x1noise < conf.img_width):\n",
    "            x1 += x1noise\n",
    "            assert x1[0] > 0 and x1[1] < conf.img_width, f\"{x1}\"\n",
    "            \n",
    "        if torch.all(x2[0] + x2noise > 0) and torch.all(x2[1] + x2noise < conf.img_height):\n",
    "            x2 += x2noise\n",
    "            assert x2[0] > 0 and x2[1] < conf.img_height, f\"{x2}\"\n",
    "        \n",
    "        assert x1[0] > 0 and x1[1] < conf.img_width, f\"{x1}\"\n",
    "        assert x2[0] > 0 and x2[1] < conf.img_height, f\"{x2}\"\n",
    "\n",
    "    return x1, x2, X1, X2 \n",
    "\n"
   ]
  },
  {
   "cell_type": "code",
   "execution_count": 296,
   "id": "abe08384-a1f7-41a2-8799-2d902c68e765",
   "metadata": {},
   "outputs": [],
   "source": [
    "from typing import Tuple\n",
    "def generate_examples(num_of_examples: int,\n",
    "                      dev: Tuple[float, float] = (0., 0.),\n",
    "                      sim_idx = None, \n",
    "                      conf: Config = conf\n",
    "                     ):\n",
    "    num_of_examples = num_of_examples // 2\n",
    "    \n",
    "    num_inliers = num_of_examples * conf.inliers_ratio\n",
    "    num_outliers = num_of_examples - num_inliers\n",
    "    \n",
    "    if num_of_examples == 0:\n",
    "        num_of_examples, num_inliers, num_outliers = 1, 1, 0\n",
    "    \n",
    "    if sim_idx is not None:\n",
    "        R, rand_angle = get_upward_with_dev(sim_idx, *dev), sim_idx\n",
    "    else:\n",
    "        R, rand_angle = get_random_upward(*dev)\n",
    "    t = torch.rand(3, )\n",
    "\n",
    "    # [TODO] [IMPORTANT]: under such generation we cannot get model where one of the points is an inlier\n",
    "    xs, Xs, inliers = [], [], []\n",
    "    for i in range(num_of_examples):\n",
    "        x1, x2, X1, X2 = generate_example(R, t)\n",
    "        Xs.append((X1, X2))\n",
    "\n",
    "        if i < num_inliers:\n",
    "            xs.append((x1, x2))\n",
    "            inliers.append(True)\n",
    "        else:\n",
    "            xs.append((generate_outlier(x1, conf), generate_outlier(x2, conf)))\n",
    "            inliers.append(False)\n",
    "            \n",
    "    xs = np.concatenate([[p.numpy() for p in elm] for elm in xs])\n",
    "    Xs = np.concatenate([[p.numpy() for p in elm] for elm in Xs])\n",
    "    \n",
    "    return xs, Xs, inliers, R, t.numpy()\n",
    "\n",
    "def colmap_to_scipy(q):\n",
    "    return [*q[1:], q[0]]\n",
    "\n",
    "def scipy_to_colmap(q):\n",
    "    return [q[-1], *q[:-1]]"
   ]
  },
  {
   "cell_type": "code",
   "execution_count": 297,
   "id": "114a1d56-cdc6-42f3-b8c3-4316819c6ff3",
   "metadata": {},
   "outputs": [],
   "source": [
    "pts2d, pts3d, inlier_mask, R, t = generate_examples(10)"
   ]
  },
  {
   "cell_type": "code",
   "execution_count": 312,
   "id": "94bfca1f-031a-4f7e-b063-36ff6cfe2f0c",
   "metadata": {},
   "outputs": [
    {
     "name": "stdout",
     "output_type": "stream",
     "text": [
      "[83.  0.  0.]\n"
     ]
    }
   ],
   "source": [
    "print(Rotation.from_matrix(R).as_euler(\"XYZ\", degrees=True))"
   ]
  },
  {
   "cell_type": "code",
   "execution_count": 316,
   "id": "05ce5c2e-4fc3-4df3-8d61-71b1914b36bf",
   "metadata": {},
   "outputs": [],
   "source": [
    "camera = pycolmap.Camera(\n",
    "    model='SIMPLE_PINHOLE',\n",
    "    width=conf.img_width,\n",
    "    height=conf.img_height,\n",
    "    params=[conf.focal_length, conf.img_width // 2, conf.img_height // 2],\n",
    ")"
   ]
  },
  {
   "cell_type": "code",
   "execution_count": 329,
   "id": "d96b226b-7ea1-4004-9087-ba7040f8db6a",
   "metadata": {},
   "outputs": [
    {
     "name": "stdout",
     "output_type": "stream",
     "text": [
      "xdev:  12  zdev:  -20\n",
      "[74.782  4.214  8.449]\n",
      "xdev:  13  zdev:  -20\n",
      "[74.787  4.209  8.452]\n",
      "xdev:  14  zdev:  -20\n",
      "[74.771  4.227  8.441]\n",
      "xdev:  14  zdev:  -18\n",
      "[74.784  4.212  8.45 ]\n",
      "xdev:  15  zdev:  -20\n",
      "[74.771  4.226  8.441]\n",
      "xdev:  15  zdev:  -18\n",
      "[74.781  4.216  8.448]\n",
      "xdev:  16  zdev:  -19\n",
      "[74.817  4.177  8.469]\n",
      "xdev:  16  zdev:  -17\n",
      "[74.783  4.213  8.45 ]\n",
      "xdev:  17  zdev:  -18\n",
      "[74.813  4.18   8.468]\n",
      "xdev:  17  zdev:  -16\n",
      "[74.79   4.205  8.455]\n",
      "xdev:  18  zdev:  -17\n",
      "[74.77   4.228  8.44 ]\n",
      "xdev:  18  zdev:  -15\n",
      "[74.811  4.182  8.467]\n",
      "xdev:  19  zdev:  -17\n",
      "[74.781  4.218  8.439]\n",
      "xdev:  19  zdev:  -15\n",
      "[74.784  4.213  8.45 ]\n"
     ]
    }
   ],
   "source": [
    "for dev_x in range(-20, 20, 1):\n",
    "    for dev_z in range(-20, 20, 1):\n",
    "        # print(Rotation.from_matrix(get_rt_mtx(dev_x, 0, dev_z, \"cpu\", torch.float64)).as_euler(\"XYZ\", degrees=True))\n",
    "        Rnoise = get_rt_mtx(dev_x, 0, dev_z, \"cpu\", torch.float64)\n",
    "        Rnew = R @ Rnoise\n",
    "        \n",
    "        answer = pycolmap.pose_refinement(\n",
    "            Rnoise @ t, scipy_to_colmap(Rotation.from_matrix(Rnew).as_quat()),\n",
    "            pts2d, pts3d,\n",
    "            [True for _ in range(pts2d.shape[0])],\n",
    "            camera\n",
    "        )\n",
    "        \n",
    "        q, t = answer['qvec'], answer['tvec']\n",
    "        if not np.allclose(\n",
    "            Rotation.from_quat(colmap_to_scipy(q)).as_euler(\"XYZ\", degrees=True),\n",
    "            Rotation.from_matrix(R).as_euler(\"XYZ\", degrees=True),\n",
    "            atol=1\n",
    "        ):\n",
    "            print(\"xdev: \", dev_x, \" zdev: \", dev_z)\n",
    "            print(Rotation.from_quat(colmap_to_scipy(q)).as_euler(\"XYZ\", degrees=True))"
   ]
  },
  {
   "cell_type": "code",
   "execution_count": 330,
   "id": "eb56531e-368f-4d32-9262-4fca17e70269",
   "metadata": {},
   "outputs": [
    {
     "data": {
      "text/plain": [
       "{'success': True,\n",
       " 'qvec': array([ 0.749,  0.663, -0.   ,  0.   ]),\n",
       " 'tvec': array([0.516, 0.695, 0.298]),\n",
       " 'num_inliers': 10,\n",
       " 'inliers': [True, True, True, True, True, True, True, True, True, True]}"
      ]
     },
     "execution_count": 330,
     "metadata": {},
     "output_type": "execute_result"
    }
   ],
   "source": [
    "pycolmap.absolute_pose_estimation(\n",
    "    pts2d, pts3d, camera,\n",
    "    estimation_options={'ransac': {'max_error': 12.0}},\n",
    "    refinement_options={'refine_focal_length': True},\n",
    ")"
   ]
  },
  {
   "cell_type": "code",
   "execution_count": null,
   "id": "d5c52618-26ff-4420-80ff-f3b0de1e109e",
   "metadata": {},
   "outputs": [],
   "source": []
  }
 ],
 "metadata": {
  "kernelspec": {
   "display_name": "Python 3",
   "language": "python",
   "name": "python3"
  },
  "language_info": {
   "codemirror_mode": {
    "name": "ipython",
    "version": 3
   },
   "file_extension": ".py",
   "mimetype": "text/x-python",
   "name": "python",
   "nbconvert_exporter": "python",
   "pygments_lexer": "ipython3",
   "version": "3.8.5"
  }
 },
 "nbformat": 4,
 "nbformat_minor": 5
}
