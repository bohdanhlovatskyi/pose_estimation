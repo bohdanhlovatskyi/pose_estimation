{
 "cells": [
  {
   "cell_type": "code",
   "execution_count": 1,
   "id": "6332766c-2db5-4eaf-98fd-9241f9b22c91",
   "metadata": {},
   "outputs": [],
   "source": [
    "import os\n",
    "import numpy as np\n",
    "np.set_printoptions(suppress=True)\n",
    "\n",
    "from scipy.spatial.transform import Rotation\n",
    "\n",
    "import poselib"
   ]
  },
  {
   "cell_type": "markdown",
   "id": "e299c653-317f-447e-b172-df2cf26ac774",
   "metadata": {},
   "source": [
    "## There is two ways to apply extrinsics"
   ]
  },
  {
   "cell_type": "code",
   "execution_count": 2,
   "id": "8f344a2c-c25c-449b-b062-5a08271dfebc",
   "metadata": {},
   "outputs": [],
   "source": [
    "x = np.array([1., 1., 1.])"
   ]
  },
  {
   "cell_type": "code",
   "execution_count": 3,
   "id": "2369652f-3187-4393-b523-f6a48ef1c2ce",
   "metadata": {},
   "outputs": [],
   "source": [
    "R = Rotation.random().as_matrix()\n",
    "c = np.random.rand(3)"
   ]
  },
  {
   "cell_type": "code",
   "execution_count": 4,
   "id": "53374bbe-7246-4504-89b5-c47604b09fd3",
   "metadata": {},
   "outputs": [
    {
     "data": {
      "text/plain": [
       "(array([[ 0.16994507, -0.79517698,  0.58207581],\n",
       "        [ 0.97736599,  0.2115247 ,  0.00360956],\n",
       "        [-0.12599365,  0.56828767,  0.81312651]]),\n",
       " array([0.84019357, 0.50069239, 0.2279258 ]))"
      ]
     },
     "execution_count": 4,
     "metadata": {},
     "output_type": "execute_result"
    }
   ],
   "source": [
    "R, c"
   ]
  },
  {
   "cell_type": "code",
   "execution_count": 5,
   "id": "f2dc3e82-484b-4789-b80c-31e57e388556",
   "metadata": {},
   "outputs": [],
   "source": [
    "x2d_t = R @ (x - c) # translate first then rotate"
   ]
  },
  {
   "cell_type": "code",
   "execution_count": 6,
   "id": "37fd992a-2891-45fc-8319-b960867c3918",
   "metadata": {},
   "outputs": [
    {
     "data": {
      "text/plain": [
       "array([0.07952611, 0.26459212, 0.89140976])"
      ]
     },
     "execution_count": 6,
     "metadata": {},
     "output_type": "execute_result"
    }
   ],
   "source": [
    "x2d_t"
   ]
  },
  {
   "cell_type": "code",
   "execution_count": 7,
   "id": "5e9c5d4e-168a-497d-a4d4-2aadf154a1ea",
   "metadata": {},
   "outputs": [
    {
     "data": {
      "text/plain": [
       "array([1., 1., 1.])"
      ]
     },
     "execution_count": 7,
     "metadata": {},
     "output_type": "execute_result"
    }
   ],
   "source": [
    "R.T @ x2d_t + c"
   ]
  },
  {
   "cell_type": "code",
   "execution_count": 8,
   "id": "ea4b7ecb-1b15-4040-a6ce-2114c5b7e53e",
   "metadata": {},
   "outputs": [],
   "source": [
    "t = - R @ c"
   ]
  },
  {
   "cell_type": "code",
   "execution_count": 9,
   "id": "a1892c16-9895-4a85-9f58-58603f8e551b",
   "metadata": {},
   "outputs": [],
   "source": [
    "x2d_r = R @ x + t # rotate first then translate"
   ]
  },
  {
   "cell_type": "code",
   "execution_count": 10,
   "id": "b77bf58f-86d3-4ed7-a02a-843d6163e320",
   "metadata": {},
   "outputs": [
    {
     "data": {
      "text/plain": [
       "array([0.07952611, 0.26459212, 0.89140976])"
      ]
     },
     "execution_count": 10,
     "metadata": {},
     "output_type": "execute_result"
    }
   ],
   "source": [
    "x2d_r"
   ]
  },
  {
   "cell_type": "code",
   "execution_count": 11,
   "id": "705a2a50-6b3c-4dd4-983a-3bf61ce7ae34",
   "metadata": {},
   "outputs": [
    {
     "data": {
      "text/plain": [
       "array([1., 1., 1.])"
      ]
     },
     "execution_count": 11,
     "metadata": {},
     "output_type": "execute_result"
    }
   ],
   "source": [
    "R.T @ (x2d_r - t)"
   ]
  },
  {
   "cell_type": "markdown",
   "id": "933596b4-25b7-4082-9bb6-898633c31dc4",
   "metadata": {},
   "source": [
    "## Projections!"
   ]
  },
  {
   "cell_type": "code",
   "execution_count": 22,
   "id": "139e9865-97e3-40d5-8925-56db4b84488a",
   "metadata": {},
   "outputs": [
    {
     "data": {
      "text/plain": [
       "array([[ 0.75341089,  0.09964425, -0.64995619],\n",
       "       [ 0.251229  ,  0.86984051,  0.4245721 ],\n",
       "       [ 0.60766439, -0.48316509,  0.6303138 ]])"
      ]
     },
     "execution_count": 22,
     "metadata": {},
     "output_type": "execute_result"
    }
   ],
   "source": [
    "# those taken from ground truth\n",
    "c = np.array([-1.495227, 0.04562, -10.339456])\n",
    "q = np.array([0.901882, -0.251623, -0.34861, 0.042019])\n",
    "\n",
    "# note the inconsistency\n",
    "\n",
    "qmtx = Rotation.from_quat([*q[1:], q[0]]) # x, y, z, w\n",
    "qmtx.as_matrix()"
   ]
  },
  {
   "cell_type": "code",
   "execution_count": 23,
   "id": "3e249757-ac11-4287-82c7-dffb5f3b19bd",
   "metadata": {},
   "outputs": [],
   "source": [
    "gt_pose = poselib.CameraPose()\n",
    "gt_pose.q = q"
   ]
  },
  {
   "cell_type": "code",
   "execution_count": 24,
   "id": "395a3194-c992-467a-9507-65edf865533c",
   "metadata": {},
   "outputs": [],
   "source": [
    "R = gt_pose.R"
   ]
  },
  {
   "cell_type": "code",
   "execution_count": 25,
   "id": "e533c2ae-5613-470b-9c52-5b8965c6bbf1",
   "metadata": {},
   "outputs": [],
   "source": [
    "# example pair taken from the experiment\n",
    "x = np.array([192.12533569, 19.14378548])\n",
    "X = np.array([11.86180782, -14.56327057, -0.92378181])"
   ]
  },
  {
   "cell_type": "code",
   "execution_count": 26,
   "id": "1b7ea75e-dc0f-4a6a-8483-8cc4748d4736",
   "metadata": {},
   "outputs": [],
   "source": [
    "t = -R @ c"
   ]
  },
  {
   "cell_type": "code",
   "execution_count": 27,
   "id": "a0add392-a3bc-41e5-aead-401b7ea43aae",
   "metadata": {},
   "outputs": [
    {
     "data": {
      "text/plain": [
       "(array([[ 0.75341094,  0.09964423, -0.64995606],\n",
       "        [ 0.25122895,  0.86984054,  0.42457202],\n",
       "        [ 0.60766427, -0.483165  ,  0.63031387]]),\n",
       " array([-5.59821749,  4.72580592,  7.44774052]))"
      ]
     },
     "execution_count": 27,
     "metadata": {},
     "output_type": "execute_result"
    }
   ],
   "source": [
    "R, t"
   ]
  },
  {
   "cell_type": "code",
   "execution_count": 28,
   "id": "ca8b898a-eee6-4f01-82dc-a3353c19d943",
   "metadata": {},
   "outputs": [],
   "source": [
    "# SIMPLE_RADIAL\n",
    "camera = {'f': 277.4716064453125, 'cx': 160.0, 'cy': 90.0, 'w': 320, 'h': 180}"
   ]
  },
  {
   "cell_type": "code",
   "execution_count": 29,
   "id": "bf11d02b-5669-466e-a587-7085f88d539c",
   "metadata": {},
   "outputs": [
    {
     "data": {
      "text/plain": [
       "array([192.70088458,  19.62502469,   1.        ])"
      ]
     },
     "execution_count": 29,
     "metadata": {},
     "output_type": "execute_result"
    }
   ],
   "source": [
    "def pix2cam(x, camera):\n",
    "    x = np.concatenate([x, np.ones(1)])\n",
    "    x[0] -= camera[\"cx\"]\n",
    "    x[1] -= camera[\"cy\"]\n",
    "    x[:2] /= camera[\"f\"]\n",
    "    x /= np.linalg.norm(x)\n",
    "    \n",
    "    return x\n",
    "\n",
    "def cam2pix(x, camera):\n",
    "    x /= x[2]\n",
    "    x[:2] *= camera[\"f\"]\n",
    "    x[0] += camera[\"cx\"]\n",
    "    x[1] += camera[\"cy\"]\n",
    "    \n",
    "    return x\n",
    "\n",
    "def w2c(X, R, t):\n",
    "    return R @ X + t\n",
    "\n",
    "cam2pix(w2c(X.copy(), R, t), camera)"
   ]
  },
  {
   "cell_type": "code",
   "execution_count": 32,
   "id": "a29280c2-6079-4df4-a4fe-4158224bd603",
   "metadata": {},
   "outputs": [
    {
     "data": {
      "text/plain": [
       "array([192.12533569,  19.14378548])"
      ]
     },
     "execution_count": 32,
     "metadata": {},
     "output_type": "execute_result"
    }
   ],
   "source": [
    "cam2pix(pix2cam(x.copy(), camera), camera)[:2]"
   ]
  },
  {
   "cell_type": "code",
   "execution_count": 33,
   "id": "0e6818dc-8718-43c9-80ed-112e68b84df8",
   "metadata": {},
   "outputs": [
    {
     "data": {
      "text/plain": [
       "array([ 11.86180782, -14.56327057,  -0.92378181])"
      ]
     },
     "execution_count": 33,
     "metadata": {},
     "output_type": "execute_result"
    }
   ],
   "source": [
    "X"
   ]
  },
  {
   "cell_type": "code",
   "execution_count": 34,
   "id": "cd25a3f4-0936-40c5-b44b-4895435e999e",
   "metadata": {},
   "outputs": [
    {
     "data": {
      "text/plain": [
       "(array([192.12533569,  19.14378548]),\n",
       " array([ 0.11147971, -0.24588163,  0.96286785]))"
      ]
     },
     "execution_count": 34,
     "metadata": {},
     "output_type": "execute_result"
    }
   ],
   "source": [
    "x, pix2cam(x.copy(), camera)"
   ]
  },
  {
   "cell_type": "code",
   "execution_count": 35,
   "id": "76ec5a22-62c7-4292-9dd0-492bcfe7101b",
   "metadata": {},
   "outputs": [
    {
     "data": {
      "text/plain": [
       "(array([ 2.48787005, -5.35409962, 21.10992744]),\n",
       " array([192.70088458,  19.62502469,   1.        ]))"
      ]
     },
     "execution_count": 35,
     "metadata": {},
     "output_type": "execute_result"
    }
   ],
   "source": [
    "w2c(X.copy(), R, t), cam2pix(w2c(X.copy(), R, t), camera)"
   ]
  },
  {
   "cell_type": "code",
   "execution_count": 36,
   "id": "b235e76d-edbd-419c-97f4-2d38472c36e0",
   "metadata": {},
   "outputs": [
    {
     "data": {
      "text/plain": [
       "'\\n// params = f, cx, cy, k1\\n\\nvoid SimpleRadialCameraModel::project(const std::vector<double> &params, const Eigen::Vector2d &x,\\n                                      Eigen::Vector2d *xp) {\\n    const double r2 = x.squaredNorm();\\n    const double alpha = (1.0 + params[3] * r2);\\n    (*xp)(0) = params[0] * alpha * x(0) + params[1];\\n    (*xp)(1) = params[0] * alpha * x(1) + params[2];\\n}\\n\\nvoid SimpleRadialCameraModel::unproject(const std::vector<double> &params, const Eigen::Vector2d &xp,\\n                                        Eigen::Vector2d *x) {\\n    (*x)(0) = (xp(0) - params[1]) / params[0];\\n    (*x)(1) = (xp(1) - params[2]) / params[0];\\n    double r0 = x->norm();\\n    double r = undistort_poly1(params[3], r0);\\n    (*x) *= r / r0;\\n}\\n'"
      ]
     },
     "execution_count": 36,
     "metadata": {},
     "output_type": "execute_result"
    }
   ],
   "source": [
    "'''\n",
    "// params = f, cx, cy, k1\n",
    "\n",
    "void SimpleRadialCameraModel::project(const std::vector<double> &params, const Eigen::Vector2d &x,\n",
    "                                      Eigen::Vector2d *xp) {\n",
    "    const double r2 = x.squaredNorm();\n",
    "    const double alpha = (1.0 + params[3] * r2);\n",
    "    (*xp)(0) = params[0] * alpha * x(0) + params[1];\n",
    "    (*xp)(1) = params[0] * alpha * x(1) + params[2];\n",
    "}\n",
    "\n",
    "void SimpleRadialCameraModel::unproject(const std::vector<double> &params, const Eigen::Vector2d &xp,\n",
    "                                        Eigen::Vector2d *x) {\n",
    "    (*x)(0) = (xp(0) - params[1]) / params[0];\n",
    "    (*x)(1) = (xp(1) - params[2]) / params[0];\n",
    "    double r0 = x->norm();\n",
    "    double r = undistort_poly1(params[3], r0);\n",
    "    (*x) *= r / r0;\n",
    "}\n",
    "'''"
   ]
  },
  {
   "cell_type": "markdown",
   "id": "e6c2e70d-db41-4c95-8d14-1d62cd5fd3d2",
   "metadata": {},
   "source": [
    "```c++\n",
    "const Eigen::Matrix3d R = pose.R();\n",
    "const double P0_0 = R(0, 0), P0_1 = R(0, 1), P0_2 = R(0, 2), P0_3 = pose.t(0);\n",
    "const double P1_0 = R(1, 0), P1_1 = R(1, 1), P1_2 = R(1, 2), P1_3 = pose.t(1);\n",
    "const double P2_0 = R(2, 0), P2_1 = R(2, 1), P2_2 = R(2, 2), P2_3 = pose.t(2);\n",
    "\n",
    "const double X0 = X[k](0), X1 = X[k](1), X2 = X[k](2);\n",
    "const double x0 = x[k](0), x1 = x[k](1);\n",
    "\n",
    "// P00 P01 P02 P03 | X0 \n",
    "// P10 P11 P12 P13 | X1 \n",
    "// P20 P21 P22 P23 | X2\n",
    "// 0   0   0   0   | 1\n",
    "\n",
    "const double z0 = P0_0 * X0 + P0_1 * X1 + P0_2 * X2 + P0_3;\n",
    "const double z1 = P1_0 * X0 + P1_1 * X1 + P1_2 * X2 + P1_3;\n",
    "const double z2 = P2_0 * X0 + P2_1 * X1 + P2_2 * X2 + P2_3;\n",
    "const double inv_z2 = 1.0 / z2;\n",
    "\n",
    "const double r_0 = z0 * inv_z2 - x0;\n",
    "const double r_1 = z1 * inv_z2 - x1;\n",
    "const double r_sq = r_0 * r_0 + r_1 * r_1;\n",
    "```"
   ]
  },
  {
   "cell_type": "code",
   "execution_count": null,
   "id": "6e380a06-7319-413c-9830-bfd001718548",
   "metadata": {},
   "outputs": [],
   "source": []
  }
 ],
 "metadata": {
  "kernelspec": {
   "display_name": "Python 3",
   "language": "python",
   "name": "python3"
  },
  "language_info": {
   "codemirror_mode": {
    "name": "ipython",
    "version": 3
   },
   "file_extension": ".py",
   "mimetype": "text/x-python",
   "name": "python",
   "nbconvert_exporter": "python",
   "pygments_lexer": "ipython3",
   "version": "3.8.5"
  }
 },
 "nbformat": 4,
 "nbformat_minor": 5
}
